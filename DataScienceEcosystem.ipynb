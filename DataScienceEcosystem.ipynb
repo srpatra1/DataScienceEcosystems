{
 "cells": [
  {
   "cell_type": "markdown",
   "id": "7faef345-d2f1-4971-acc3-63c753da9f31",
   "metadata": {},
   "source": [
    "# Data Science Tools and Ecosystem"
   ]
  },
  {
   "cell_type": "markdown",
   "id": "c0f249cf-82a5-4aec-879c-a68cad0b3772",
   "metadata": {},
   "source": [
    "This notebook contains lists of languages, libraries, and tools for data science. Examples of python code are also included in this notebook. "
   ]
  },
  {
   "cell_type": "markdown",
   "id": "17f2a703-9997-449d-9d94-36795b178b64",
   "metadata": {},
   "source": [
    "**Objectives:**\n",
    "\n",
    "* List of Data Science Languages\n",
    "* List of Data Science Libraries\n",
    "* Table of Data Science Tools\n",
    "* Example of code to add and multiply numbers\n",
    "* Code to Convert Minutes to Hours"
   ]
  },
  {
   "cell_type": "markdown",
   "id": "a5418ba6-1fd3-43e4-a98f-1418041ea0d1",
   "metadata": {},
   "source": [
    "### Data Science Languages\n",
    "\n",
    "1. Python\n",
    "2. R\n",
    "3. Scala\n",
    "4. C++\n",
    "5. Julia\n",
    "6. Javascript\n",
    "7. SQL"
   ]
  },
  {
   "cell_type": "markdown",
   "id": "10ca2e13-2380-4019-8174-a5aa9fcde3dc",
   "metadata": {},
   "source": [
    "### Data Science Libraries\n",
    "\n",
    "1. Numpy\n",
    "2. Keras\n",
    "3. Tensorflow\n",
    "4. Scikit-learn\n",
    "5. Pandas\n",
    "6. ggplot2\n",
    "7. Matplotlib\n",
    "8. Seaborn\n",
    "9. Apache Spark\n",
    "10. Vegas\n",
    "11. Big DL"
   ]
  },
  {
   "cell_type": "markdown",
   "id": "95ef895a-0a38-4287-b551-5ffe8e43efa3",
   "metadata": {},
   "source": [
    "### Data Science Tools\n",
    "\n",
    "| Development Environments |\n",
    "| --- |\n",
    "| Jupyter |\n",
    "| R studio |\n",
    "| Apache Zeppelin |"
   ]
  },
  {
   "cell_type": "markdown",
   "id": "e531f03e-b1f0-47fe-be80-cd607d0e5c70",
   "metadata": {},
   "source": [
    "### The following code cell provides examples of the addition and multiplication operations in python."
   ]
  },
  {
   "cell_type": "code",
   "execution_count": 1,
   "id": "3956f018-d322-4dbe-8ce7-8a1003bb2ead",
   "metadata": {},
   "outputs": [
    {
     "data": {
      "text/plain": [
       "17"
      ]
     },
     "execution_count": 1,
     "metadata": {},
     "output_type": "execute_result"
    }
   ],
   "source": [
    "# This simple operation multiplies two numbers and then adds another.\n",
    "\n",
    "(3*4)+5"
   ]
  },
  {
   "cell_type": "code",
   "execution_count": 2,
   "id": "a89d478e-7dd1-4c6a-a499-b9e3497c332b",
   "metadata": {},
   "outputs": [
    {
     "data": {
      "text/plain": [
       "3.3333333333333335"
      ]
     },
     "execution_count": 2,
     "metadata": {},
     "output_type": "execute_result"
    }
   ],
   "source": [
    "#This will convert 200 minutes to hours by dividing 60.\n",
    "\n",
    "def minutes_to_hours(min):\n",
    "    return min/60\n",
    "\n",
    "minutes_to_hours(200)"
   ]
  },
  {
   "cell_type": "markdown",
   "id": "e762114f-d26a-4ab8-b936-8266fb666828",
   "metadata": {},
   "source": [
    "## Author: \n",
    "Shashwat"
   ]
  }
 ],
 "metadata": {
  "kernelspec": {
   "display_name": "Python",
   "language": "python",
   "name": "conda-env-python-py"
  },
  "language_info": {
   "codemirror_mode": {
    "name": "ipython",
    "version": 3
   },
   "file_extension": ".py",
   "mimetype": "text/x-python",
   "name": "python",
   "nbconvert_exporter": "python",
   "pygments_lexer": "ipython3",
   "version": "3.7.12"
  }
 },
 "nbformat": 4,
 "nbformat_minor": 5
}
